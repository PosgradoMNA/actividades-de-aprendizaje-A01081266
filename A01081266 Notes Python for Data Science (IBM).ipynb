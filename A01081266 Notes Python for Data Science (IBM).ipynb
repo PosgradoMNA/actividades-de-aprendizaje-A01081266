{
  "nbformat": 4,
  "nbformat_minor": 0,
  "metadata": {
    "colab": {
      "provenance": [],
      "authorship_tag": "ABX9TyNwjsxT1r6p7gXUC0tTsoJ5",
      "include_colab_link": true
    },
    "kernelspec": {
      "name": "python3",
      "display_name": "Python 3"
    },
    "language_info": {
      "name": "python"
    }
  },
  "cells": [
    {
      "cell_type": "markdown",
      "metadata": {
        "id": "view-in-github",
        "colab_type": "text"
      },
      "source": [
        "<a href=\"https://colab.research.google.com/github/PosgradoMNA/actividades-de-aprendizaje-aalr007/blob/main/A01081266%20Notes%20Python%20for%20Data%20Science%20(IBM).ipynb\" target=\"_parent\"><img src=\"https://colab.research.google.com/assets/colab-badge.svg\" alt=\"Open In Colab\"/></a>"
      ]
    },
    {
      "cell_type": "markdown",
      "source": [
        "Python es un lenguaje interpretado\n",
        "\n"
      ],
      "metadata": {
        "id": "R-sG5RRptL0G"
      }
    },
    {
      "cell_type": "markdown",
      "source": [
        "Comentarios\n",
        "    \n",
        "' #este es un comentario en python\n",
        "\n"
      ],
      "metadata": {
        "id": "9LRVoriJw8-z"
      }
    },
    {
      "cell_type": "markdown",
      "source": [
        "Strings\n",
        "\n",
        "\n",
        "*   variable inicializada con texto entre comillas dobles o simples\n",
        "*   se pueden acceder por indices que comienzan en 0\n",
        "*   se puede indicar donde comienza, donde termina y numero de espacios a recorrer: string[comienzo: termino:Saltos]\n",
        "*   len te da el tamaño del string\n",
        "*   se pueden sumar, multiplicar\n",
        "*   B=A.replace(\"texto a reemplazar\",\"nuevo texto\"]\n",
        "\n",
        "\n",
        "\n",
        "\n",
        "\n",
        "\n",
        "\n"
      ],
      "metadata": {
        "id": "o-QSz2UF-E7Z"
      }
    },
    {
      "cell_type": "markdown",
      "source": [
        "Tuples\n",
        "\n",
        "*   son secuencias ordenadas\n",
        "*   se ponen entre parentesis separados por comas\n",
        "*   se define como tupla1 (\"disco\", 10, 1.3)\n",
        "*   no se pueden cambiar ni sobre escribir\n",
        "*   una tupla puede contener otras tuplas de otros tipos de datos\n",
        "\n",
        "\n",
        "\n",
        "\n",
        "\n",
        "\n",
        "\n",
        "\n"
      ],
      "metadata": {
        "id": "rDC2FI4t_Z8T"
      }
    },
    {
      "cell_type": "markdown",
      "source": [
        "listas\n",
        "\n",
        "\n",
        "*   lista son secuencias ordenadas\n",
        "*   las listas son mutables, se pueden cambiar\n",
        "*   se pueden acceder como las tuplas, se pueden concatenar\n",
        "*   extend y append sirven para añadir elementos\n",
        "*   con Del se borran elementos de la lista\n",
        "*   B=A[:] asi se clonan las listas para evitar el aliasing\n",
        "\n",
        "\n",
        "\n",
        "\n",
        "\n",
        "\n"
      ],
      "metadata": {
        "id": "CAzoAMfVY1nX"
      }
    },
    {
      "cell_type": "markdown",
      "source": [
        "Sets\n",
        "\n",
        "\n",
        "*   tipo de coleccion\n",
        "*   no estan ordenados, solo tienen elementos unicos\n",
        "*   se ponen con {}\n",
        "*   si se duplican los elementos se eliminara el duplicado\n",
        "*   se le pueden añadir cosas con .add\n",
        "*   para remover se puede usar remove method\n",
        "*   para checar si esta en el set se puede usar \"in\"\n",
        "*   para sacar un set con elementos comunes entre 2 sets se puede usar &\n",
        "*   La union es la union de 2 sets, pone todo lo que haya en los 2 sets\n",
        "*   se puede usar issubsset para checar si un set esta contenido totalmente en otro\n",
        "\n",
        "\n",
        "\n",
        "\n",
        "\n",
        "\n",
        "\n",
        "\n",
        "\n"
      ],
      "metadata": {
        "id": "LXWhwiFCtIdL"
      }
    },
    {
      "cell_type": "markdown",
      "source": [
        "Diccionarios\n",
        "\n",
        "\n",
        "\n",
        "*   se crean con {} y se separan con ,\n",
        "*   tienen llaves y valores (como palabra y significado)\n",
        "*   las llaves no se cambian y son unicas\n",
        "\n",
        "*   los valores pueden o no cambiar y repetirse\n",
        "*   se añaden valores como variables\n",
        "\n",
        "\n",
        "*   para borrar es con del\n",
        "*   Elemento de lista\n",
        "\n",
        "\n",
        "\n",
        "\n",
        "\n"
      ],
      "metadata": {
        "id": "8iDvDEcxwGLy"
      }
    },
    {
      "cell_type": "markdown",
      "source": [
        "Conditions and Branching\n",
        "\n",
        "\n",
        "*   se compara con == \n",
        "*   inegualdad es !=\n",
        "*   se pueden comparar strings\n",
        "*   hay if, else y elif\n",
        "*   Or y and es como tabla de verdad\n",
        "*   Elemento de lista\n",
        "\n",
        "\n",
        "\n",
        "\n",
        "\n"
      ],
      "metadata": {
        "id": "YdhF-nK0yG-s"
      }
    },
    {
      "cell_type": "code",
      "source": [],
      "metadata": {
        "id": "EW1I6d1EOYOi"
      },
      "execution_count": null,
      "outputs": []
    }
  ]
}