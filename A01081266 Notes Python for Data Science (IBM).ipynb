{
  "nbformat": 4,
  "nbformat_minor": 0,
  "metadata": {
    "colab": {
      "provenance": [],
      "toc_visible": true,
      "authorship_tag": "ABX9TyPdfJLfKUMWHNffQT2yMuDt",
      "include_colab_link": true
    },
    "kernelspec": {
      "name": "python3",
      "display_name": "Python 3"
    },
    "language_info": {
      "name": "python"
    }
  },
  "cells": [
    {
      "cell_type": "markdown",
      "metadata": {
        "id": "view-in-github",
        "colab_type": "text"
      },
      "source": [
        "<a href=\"https://colab.research.google.com/github/PosgradoMNA/actividades-de-aprendizaje-A01081266/blob/main/A01081266%20Notes%20Python%20for%20Data%20Science%20(IBM).ipynb\" target=\"_parent\"><img src=\"https://colab.research.google.com/assets/colab-badge.svg\" alt=\"Open In Colab\"/></a>"
      ]
    },
    {
      "cell_type": "markdown",
      "source": [
        "Python es un lenguaje interpretado\n",
        "\n"
      ],
      "metadata": {
        "id": "R-sG5RRptL0G"
      }
    },
    {
      "cell_type": "markdown",
      "source": [
        "Comentarios\n",
        "    \n",
        "' #este es un comentario en python\n",
        "\n"
      ],
      "metadata": {
        "id": "9LRVoriJw8-z"
      }
    },
    {
      "cell_type": "code",
      "source": [
        "#comentario \n",
        "#voy a imprimir mi primer programa\n",
        "print(\"Hello World\")"
      ],
      "metadata": {
        "id": "7_gFuV-UOs8V",
        "outputId": "0a655cd3-31e0-4e6c-e74c-83ec75d54f88",
        "colab": {
          "base_uri": "https://localhost:8080/"
        }
      },
      "execution_count": 1,
      "outputs": [
        {
          "output_type": "stream",
          "name": "stdout",
          "text": [
            "Hello World\n"
          ]
        }
      ]
    },
    {
      "cell_type": "markdown",
      "source": [
        "Strings\n",
        "\n",
        "\n",
        "*   variable inicializada con texto entre comillas dobles o simples\n",
        "*   se pueden acceder por indices que comienzan en 0\n",
        "*   se puede indicar donde comienza, donde termina y numero de espacios a recorrer: string[comienzo: termino:Saltos]\n",
        "*   len te da el tamaño del string\n",
        "*   se pueden sumar, multiplicar\n",
        "*   B=A.replace(\"texto a reemplazar\",\"nuevo texto\"]\n",
        "\n",
        "\n",
        "\n",
        "\n",
        "\n",
        "\n",
        "\n"
      ],
      "metadata": {
        "id": "o-QSz2UF-E7Z"
      }
    },
    {
      "cell_type": "code",
      "source": [
        "MyString=\"Maestria en Inteligencia Artificial\"\n",
        "Str=MyString[12:24]\n",
        "print(Str)\n",
        "print(len(Str))"
      ],
      "metadata": {
        "id": "V899eg8dO4Sx",
        "outputId": "9978ab82-040f-4b2c-aded-e90b991f7642",
        "colab": {
          "base_uri": "https://localhost:8080/"
        }
      },
      "execution_count": 6,
      "outputs": [
        {
          "output_type": "stream",
          "name": "stdout",
          "text": [
            "Inteligencia\n",
            "12\n"
          ]
        }
      ]
    },
    {
      "cell_type": "markdown",
      "source": [
        "Tuples\n",
        "\n",
        "*   son secuencias ordenadas\n",
        "*   se ponen entre parentesis separados por comas\n",
        "*   se define como tupla1 (\"disco\", 10, 1.3)\n",
        "*   no se pueden cambiar ni sobre escribir\n",
        "*   una tupla puede contener otras tuplas de otros tipos de datos\n",
        "\n",
        "*   se puede acceder por indice\n",
        "*   print(tuple1[0])\n",
        "\n",
        "*   Concatenar \n",
        "*   tuple2 = tuple1 + (\"hard rock\", 10)\n",
        "\n",
        "\n",
        "\n",
        "\n",
        "\n",
        "\n",
        "\n",
        "\n",
        "\n",
        "\n",
        "\n",
        "\n"
      ],
      "metadata": {
        "id": "rDC2FI4t_Z8T"
      }
    },
    {
      "cell_type": "code",
      "source": [
        "#ejemplo de tupla\n",
        "MiTupla=(\"perro\", \"gato\", 1,3)\n",
        "print(MiTupla)"
      ],
      "metadata": {
        "id": "2-od4XhrPxom",
        "outputId": "881aaaac-1e5b-4606-aef6-c5d261d780ad",
        "colab": {
          "base_uri": "https://localhost:8080/"
        }
      },
      "execution_count": 8,
      "outputs": [
        {
          "output_type": "stream",
          "name": "stdout",
          "text": [
            "('perro', 'gato', 1, 3)\n"
          ]
        }
      ]
    },
    {
      "cell_type": "markdown",
      "source": [
        "listas\n",
        "\n",
        "\n",
        "*   lista son secuencias ordenadas\n",
        "*   las listas son mutables, se pueden cambiar\n",
        "*   se pueden acceder como las tuplas, se pueden concatenar\n",
        "*   extend y append sirven para añadir elementos\n",
        "*   con Del se borran elementos de la lista\n",
        "*   B=A[:] asi se clonan las listas para evitar el aliasing\n",
        "\n",
        "\n",
        "\n",
        "What is the correct way to sort the list 'B' using a method? The result should not return a new list, just change the list 'B'.\n",
        "\n",
        "B.sort()\n",
        " si usamos sorted, se crea una nueva lista\n",
        "\n",
        "\n"
      ],
      "metadata": {
        "id": "CAzoAMfVY1nX"
      }
    },
    {
      "cell_type": "code",
      "source": [
        "#lista\n",
        "MiLista=[\"perro\", \"gato\", 1,3]\n",
        "print(MiLista)"
      ],
      "metadata": {
        "id": "NzUOH_VmQDVp",
        "outputId": "4a72c9d2-ad47-457b-ef75-678bf990036e",
        "colab": {
          "base_uri": "https://localhost:8080/"
        }
      },
      "execution_count": 10,
      "outputs": [
        {
          "output_type": "stream",
          "name": "stdout",
          "text": [
            "['perro', 'gato', 1, 3]\n"
          ]
        }
      ]
    },
    {
      "cell_type": "markdown",
      "source": [
        "Sets\n",
        "\n",
        "\n",
        "*   tipo de coleccion\n",
        "*   no estan ordenados, solo tienen elementos unicos\n",
        "*   se ponen con {}\n",
        "*   si se duplican los elementos se eliminara el duplicado\n",
        "*   se le pueden añadir cosas con .add\n",
        "*   para remover se puede usar remove method\n",
        "*   para checar si esta en el set se puede usar \"in\"\n",
        "*   para sacar un set con elementos comunes entre 2 sets se puede usar &\n",
        "*   La union es la union de 2 sets, pone todo lo que haya en los 2 sets\n",
        "*   se puede usar issubsset para checar si un set esta contenido totalmente en otro\n",
        "\n",
        "\n",
        "\n",
        "\n",
        "\n",
        "\n",
        "\n",
        "\n",
        "\n"
      ],
      "metadata": {
        "id": "LXWhwiFCtIdL"
      }
    },
    {
      "cell_type": "markdown",
      "source": [
        "Diccionarios\n",
        "\n",
        "\n",
        "\n",
        "*   se crean con {} y se separan con ,\n",
        "*   tienen llaves y valores (como palabra y significado)\n",
        "*   las llaves no se cambian y son unicas\n",
        "\n",
        "*   los valores pueden o no cambiar y repetirse\n",
        "*   se añaden valores como variables\n",
        "\n",
        "\n",
        "*   para borrar es con del\n",
        "*   Elemento de lista\n",
        "\n",
        "\n",
        "\n",
        "\n",
        "\n"
      ],
      "metadata": {
        "id": "8iDvDEcxwGLy"
      }
    },
    {
      "cell_type": "markdown",
      "source": [
        "Conditions and Branching\n",
        "\n",
        "\n",
        "*   se compara con == \n",
        "*   inegualdad es !=\n",
        "*   se pueden comparar strings\n",
        "*   hay if, else y elif\n",
        "*   Or y and es como tabla de verdad\n",
        "*   Elemento de lista\n",
        "\n",
        "\n",
        "\n",
        "\n",
        "\n"
      ],
      "metadata": {
        "id": "YdhF-nK0yG-s"
      }
    },
    {
      "cell_type": "markdown",
      "source": [
        "Clases"
      ],
      "metadata": {
        "id": "1FnKQe2qUjOY"
      }
    },
    {
      "cell_type": "code",
      "source": [
        "class Car(object):\n",
        "    def __init__(self,make,model,color):\n",
        "        self.make=make;\n",
        "        self.model=model;\n",
        "        self.color=color;\n",
        "        self.owner_number=0 \n",
        "    def car_info(self):\n",
        "        print(\"make: \",self.make)\n",
        "        print(\"model:\", self.model)\n",
        "        print(\"color:\",self.color)\n",
        "        print(\"number of owners:\",self.owner_number)\n",
        "    def sell(self):\n",
        "        self.owner_number=self.owner_number+1\n",
        "\n",
        "make=\"BMW\"\n",
        "model=\"M3\"\n",
        "color=\"red\"\n",
        "\n",
        "my_car = Car(make,model,color)\n",
        "print(my_car.make)\n",
        "\n",
        "my_car2 = Car(make=\"Honda\",model=\"Accord\",color=\"blue\")\n",
        "my_car3 = Car(\"Toyota\",\"Corolla\",\"red\")\n",
        "my_car4 = Car(model=\"F150\",make=\"Ford\",color=\"Gray\")\n",
        "my_car5=Car(\"Silverado\",\"Chevrolet\",\"black\")\n",
        "print(my_car2.make)\n",
        "print(my_car3.make)\n",
        "print(my_car4.make)\n",
        "print(my_car5.make)"
      ],
      "metadata": {
        "id": "EW1I6d1EOYOi",
        "outputId": "d00111bb-0306-4fa1-a43b-dd5da00158ea",
        "colab": {
          "base_uri": "https://localhost:8080/"
        }
      },
      "execution_count": 19,
      "outputs": [
        {
          "output_type": "stream",
          "name": "stdout",
          "text": [
            "BMW\n",
            "Honda\n",
            "Toyota\n",
            "Ford\n",
            "Silverado\n"
          ]
        }
      ]
    },
    {
      "cell_type": "code",
      "source": [
        "A = ['1','2','3']\n",
        "\n",
        "for a in A:\n",
        "\n",
        "  print(2*a)"
      ],
      "metadata": {
        "id": "oyYps3lIU4bn",
        "outputId": "2a80a648-1882-4242-ac88-7102461cafe8",
        "colab": {
          "base_uri": "https://localhost:8080/"
        }
      },
      "execution_count": 21,
      "outputs": [
        {
          "output_type": "stream",
          "name": "stdout",
          "text": [
            "11\n",
            "22\n",
            "33\n"
          ]
        }
      ]
    },
    {
      "cell_type": "markdown",
      "source": [
        "![2022-09-20.png](data:image/png;base64,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)"
      ],
      "metadata": {
        "id": "ewRUnoxTVzMf"
      }
    }
  ]
}