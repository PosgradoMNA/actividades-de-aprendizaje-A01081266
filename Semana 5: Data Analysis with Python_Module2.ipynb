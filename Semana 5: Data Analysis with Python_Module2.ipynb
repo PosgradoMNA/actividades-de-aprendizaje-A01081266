{
  "nbformat": 4,
  "nbformat_minor": 0,
  "metadata": {
    "colab": {
      "provenance": [],
      "authorship_tag": "ABX9TyM/GI8QKVjWb3oz9WFS38pk",
      "include_colab_link": true
    },
    "kernelspec": {
      "name": "python3",
      "display_name": "Python 3"
    },
    "language_info": {
      "name": "python"
    }
  },
  "cells": [
    {
      "cell_type": "markdown",
      "metadata": {
        "id": "view-in-github",
        "colab_type": "text"
      },
      "source": [
        "<a href=\"https://colab.research.google.com/github/PosgradoMNA/actividades-de-aprendizaje-A01081266/blob/main/Semana%205%3A%20Data%20Analysis%20with%20Python_Module2.ipynb\" target=\"_parent\"><img src=\"https://colab.research.google.com/assets/colab-badge.svg\" alt=\"Open In Colab\"/></a>"
      ]
    },
    {
      "cell_type": "markdown",
      "source": [
        "Pre processing Data in Python\n",
        "\n",
        "*step in data of processing or converting data to another format to get ready for analysis \n",
        "* identificar como manejar los datos faltantes\n",
        "* mdoficar los datos para dejarlos en el mismo formato\n",
        "* Normalizar es dejar los datos en rangos similares para comparaciones mas útiles\n",
        "*Binning  crea categorias mas grandes de un set de valores numericos, sirve para comparar grupos de datos\n",
        "* Variables categóricas, que se pueden convertir en valores numericos, para obtener estadíscicas con ellas\n",
        "\n"
      ],
      "metadata": {
        "id": "pqbZFX-Zjls_"
      }
    },
    {
      "cell_type": "code",
      "source": [
        "df[\"symboling\"]=df[\"symboling\"]+1 #le suma 1 a todos los renglones de symboling"
      ],
      "metadata": {
        "id": "7cKq-ziZkkcN"
      },
      "execution_count": null,
      "outputs": []
    },
    {
      "cell_type": "markdown",
      "source": [
        "Valores perdidos\n",
        "\n",
        "*cuando no hay datos en algun atributo, es un valor perdido, puede ser ?, NaN,  o en blanco\n",
        "\n",
        "*opciones para obtener los datos: obtener el dato, borrarlos (con la opcion de borrar el renglon, la columna)\n",
        "\n",
        "*se puede reemplazar los datos, pero es menos preciso ya que se \"adivina\" el valor, que puede ser con el promedio de los demas valores\n",
        "\n",
        "*para variables categoricas se pueden reemplazar con el valor mas comun\n",
        "\n",
        "*algunas veces es bueno dejar los datos faltantes como faltantes\n",
        "\n",
        "*para quitar datos faltantes se puede usar dropna, para identificar si quieres borrar los renglones, se usa axis =0, y para borrar la columna, axis =1.\n",
        "\n",
        "*modificar el argumento inplace= True permite modificar directamente en el dataset, actualiza el dataframe que se esta usando al escribirlo directamente (equivalente a poner df = df.drop...)\n",
        "\n",
        "*Para reemplazar NaN, hay un metodo llamado replace"
      ],
      "metadata": {
        "id": "KlmOZ7P_kukX"
      }
    },
    {
      "cell_type": "code",
      "source": [
        "dataframe.replace(missing_value, new_value):\n",
        "mean = df[\"normalized-losses\"].mean()\n",
        "df[\"normalized-losses\"].replace(np.nan, mean)"
      ],
      "metadata": {
        "id": "LqFaSrVgmswp"
      },
      "execution_count": null,
      "outputs": []
    },
    {
      "cell_type": "markdown",
      "source": [
        "*resumen se pueden borrar datos con drop, o se pueden reemplazar con replace."
      ],
      "metadata": {
        "id": "AaZpDFbFmzXc"
      }
    },
    {
      "cell_type": "markdown",
      "source": [
        "Formateo de Datos\n",
        "\n",
        "* los datos vienen en muchos formatos\n",
        "\n",
        "* el formateo de datos asegura que los datos sean consistentes y facilmente entendibles\n",
        "\n",
        "* ejemplo de NY, nueva york, N.Y., N. York-- cambiar todo a nueva york\n",
        "\n",
        "* hay ocasiones que el tipo de datos esta mal asignado\n",
        "es importante convertir los datos al tipo correcto\n",
        "\n",
        "* para identificar el tupo de datos, podemos usar ***dataframe.dtypes()***\n",
        "\n",
        "* para convertir el tipo de datos podemos usar ***dataframe.astype()***\n",
        "\n",
        "*"
      ],
      "metadata": {
        "id": "l9uAsiSJqkJz"
      }
    },
    {
      "cell_type": "code",
      "source": [
        "df[\"price\"]=df[\"price\"].astype(\"int\")\n"
      ],
      "metadata": {
        "id": "iKysRmh0roih"
      },
      "execution_count": null,
      "outputs": []
    },
    {
      "cell_type": "markdown",
      "source": [
        "Normalización de datos\n",
        "\n",
        "* dejar los datos en rango similar para compararlos de manera mas equitativa\n",
        "\n",
        "* ejemplo de la edad y el ingreso, que ingreso puede ser mucho mas grande\n",
        "\n",
        "* se puede normalizar los valores entre 0 y 1\n",
        "\n",
        "* simple feature scaling: consiste en dividir cada valor entre el maximo valor posible de esa característica, dejando todo entre 0 y 1\n",
        "\n",
        "* Min Max: se le resta el valor minimo al valor original y se divide entre la diferencia entre min y max de la caracteristica \n",
        "\n",
        "* Z-score: para cada valor se le resta el promedio de la caracteristica y se divide entre la desviación estandar\n",
        "\n",
        "* "
      ],
      "metadata": {
        "id": "9jVr6aDqrzuY"
      }
    },
    {
      "cell_type": "code",
      "source": [
        "#simple deature\n",
        "df[\"length\"] =df[\"length\"]/df[\"length\"].max()\n",
        "\n",
        "#min max\n",
        "df[\"length\"] =(df[\"length\"]-df[\"length\"].min())/(df[\"length\"].max()-df[\"length\"].min())\n",
        "\n",
        "#Z Score\n",
        "df[\"length\"] =(df[\"length\"]-df[\"length\"].mean)/df[\"length\"].std"
      ],
      "metadata": {
        "id": "HWR4KLQTtAcI"
      },
      "execution_count": null,
      "outputs": []
    },
    {
      "cell_type": "markdown",
      "source": [
        "Binning\n",
        "\n",
        "* es cuando agrupas valores en contenedores\n",
        "\n",
        "* puede mejorar la precisión en modelos predictivos\n",
        "\n",
        "* un ejemplo es categorizar: low, medium, high\n",
        "\n",
        "*"
      ],
      "metadata": {
        "id": "4Gr1EqD71BYm"
      }
    },
    {
      "cell_type": "code",
      "source": [
        "bins=np.linspace(mind(df[\"price\"]), max(df[\"price\"]),4)\n",
        "group_names?[\"low\",\"Medium\",\"High\"]\n",
        "df[\"price-binned\"]=pd.cut(df[\"price\"],bins,labels=group, names,include_lowest=Tue)"
      ],
      "metadata": {
        "id": "HmjINdYC2bGM"
      },
      "execution_count": null,
      "outputs": []
    },
    {
      "cell_type": "markdown",
      "source": [
        "Convertir valores categóricos en variables cuantitativas\n",
        "\n",
        "* modelos estadisticos solo toman numeros como inputs\n",
        "\n",
        "* se pueden codificar las categorias a numeros \n",
        "\n",
        "* get_dummies() se puede usar para convertir variables categoricas en dummies\n",
        "\n",
        "* \n"
      ],
      "metadata": {
        "id": "Jwxd1De34dCo"
      }
    },
    {
      "cell_type": "markdown",
      "source": [
        "![image.png](data:image/png;base64,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)"
      ],
      "metadata": {
        "id": "lcEqkJBo6Dwb"
      }
    }
  ]
}