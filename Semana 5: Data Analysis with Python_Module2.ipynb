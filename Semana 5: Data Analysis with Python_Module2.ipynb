{
  "nbformat": 4,
  "nbformat_minor": 0,
  "metadata": {
    "colab": {
      "provenance": [],
      "authorship_tag": "ABX9TyPBjleeuN8TZLob8sFI6mx/",
      "include_colab_link": true
    },
    "kernelspec": {
      "name": "python3",
      "display_name": "Python 3"
    },
    "language_info": {
      "name": "python"
    }
  },
  "cells": [
    {
      "cell_type": "markdown",
      "metadata": {
        "id": "view-in-github",
        "colab_type": "text"
      },
      "source": [
        "<a href=\"https://colab.research.google.com/github/PosgradoMNA/actividades-de-aprendizaje-A01081266/blob/main/Semana%205%3A%20Data%20Analysis%20with%20Python_Module2.ipynb\" target=\"_parent\"><img src=\"https://colab.research.google.com/assets/colab-badge.svg\" alt=\"Open In Colab\"/></a>"
      ]
    },
    {
      "cell_type": "code",
      "execution_count": null,
      "metadata": {
        "id": "NzOuVz-4jGr2"
      },
      "outputs": [],
      "source": []
    },
    {
      "cell_type": "markdown",
      "source": [
        "Pre processing Data in Python\n",
        "\n",
        "*step in data of processing or converting data to another format to get ready for analysis \n",
        "* identificar como manejar los datos faltantes\n",
        "* mdoficar los datos para dejarlos en el mismo formato\n",
        "* Normalizar es dejar los datos en rangos similares para comparaciones mas útiles\n",
        "*Binning  crea categorias mas grandes de un set de valores numericos, sirve para comparar grupos de datos\n",
        "* Variables categóricas, que se pueden convertir en valores numericos, para obtener estadíscicas con ellas\n",
        "\n"
      ],
      "metadata": {
        "id": "pqbZFX-Zjls_"
      }
    },
    {
      "cell_type": "code",
      "source": [
        "df[\"symboling\"]=df[\"symboling\"]+1 #le suma 1 a todos los renglones de symboling"
      ],
      "metadata": {
        "id": "7cKq-ziZkkcN"
      },
      "execution_count": null,
      "outputs": []
    },
    {
      "cell_type": "markdown",
      "source": [
        "Valores perdidos\n",
        "\n",
        "*cuando no hay datos en algun atributo, es un valor perdido, puede ser ?, NaN,  o en blanco\n",
        "\n",
        "*opciones para obtener los datos: obtener el dato, borrarlos (con la opcion de borrar el renglon, la columna)\n",
        "\n",
        "*se puede reemplazar los datos, pero es menos preciso ya que se \"adivina\" el valor, que puede ser con el promedio de los demas valores\n",
        "\n",
        "*para variables categoricas se pueden reemplazar con el valor mas comun\n",
        "\n",
        "*algunas veces es bueno dejar los datos faltantes como faltantes\n",
        "\n",
        "*para quitar datos faltantes se puede usar dropna, para identificar si quieres borrar los renglones, se usa axis =0, y para borrar la columna, axis =1.\n",
        "\n",
        "*modificar el argumento inplace= True permite modificar directamente en el dataset, actualiza el dataframe que se esta usando al escribirlo directamente (equivalente a poner df = df.drop...)\n",
        "\n",
        "*Para reemplazar NaN, hay un metodo llamado replace"
      ],
      "metadata": {
        "id": "KlmOZ7P_kukX"
      }
    },
    {
      "cell_type": "code",
      "source": [
        "dataframe.replace(missing_value, new_value):\n",
        "mean = df[\"normalized-losses\"].mean()\n",
        "df[\"normalized-losses\"].replace(np.nan, mean)"
      ],
      "metadata": {
        "id": "LqFaSrVgmswp"
      },
      "execution_count": null,
      "outputs": []
    },
    {
      "cell_type": "markdown",
      "source": [
        "*resumen se pueden borrar datos con drop, o se pueden reemplazar con replace."
      ],
      "metadata": {
        "id": "AaZpDFbFmzXc"
      }
    }
  ]
}