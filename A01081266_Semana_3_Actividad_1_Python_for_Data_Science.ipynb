{
  "nbformat": 4,
  "nbformat_minor": 0,
  "metadata": {
    "colab": {
      "provenance": [],
      "collapsed_sections": [],
      "authorship_tag": "ABX9TyMWHbDMYwzQdnhRjBS1kXou",
      "include_colab_link": true
    },
    "kernelspec": {
      "name": "python3",
      "display_name": "Python 3"
    },
    "language_info": {
      "name": "python"
    }
  },
  "cells": [
    {
      "cell_type": "markdown",
      "metadata": {
        "id": "view-in-github",
        "colab_type": "text"
      },
      "source": [
        "<a href=\"https://colab.research.google.com/github/PosgradoMNA/actividades-de-aprendizaje-A01081266/blob/main/A01081266_Semana_3_Actividad_1_Python_for_Data_Science.ipynb\" target=\"_parent\"><img src=\"https://colab.research.google.com/assets/colab-badge.svg\" alt=\"Open In Colab\"/></a>"
      ]
    },
    {
      "cell_type": "code",
      "execution_count": null,
      "metadata": {
        "id": "LrhVXfzjnK0J"
      },
      "outputs": [],
      "source": []
    },
    {
      "cell_type": "markdown",
      "source": [
        "Numpy\n",
        "\n",
        "libreria para manejo de funciones\n",
        "\n",
        "#Arreglos en 1D\n",
        "Listas\n",
        "*   a=[\"0\",1,'Two',\"3\",4]\n",
        "*   se puede acceder con a[0]:\"0\"\n",
        "*   un arreglo es como una lista del mismo tipo de datos y de longitud conocida\n",
        "*   a:array([0,1,2,3,4])\n",
        "*   para conocer que datos tiene el arreglo se puede usar a.dtype\n",
        "*   size da el tamaño del arreglo, ndim son las dimensiones del arreglo, shape es una tupla que da el tamaño del arreglo en cada dimension\n",
        "*   se puede cambiar los elementos del arreglo \n",
        "*   a[0] = 100\n",
        "*   se pueden acceder pedazos c[1:4]\n",
        "*   se pueden sumar o restar directo\n",
        "*   para multiplicar por escalar solo multiplicas por el numero\n",
        "*   puedes multiplicar arreglos por otro arreglo (creo que solo habria que checar si es entre matrices cuadradas)\n",
        "*   se puede hacer el producto punto\n",
        "*   si le sumas un escalar al arreglo, le va a suma a cada elemento del arreglo\n",
        "*   b.max da el maximo del arreglo\n",
        "*   puedes acceder a numeros matematicos como pi, funcion seno\n",
        "*   linspace (punto inicial, punto final, numero de muestras) \n",
        "*   matplotlib.pyplot as plt\n",
        "\n",
        "\n",
        "\n",
        "\n",
        "\n",
        "\n",
        "\n",
        "\n",
        "\n",
        "\n",
        "\n",
        "\n",
        "\n",
        "\n",
        "\n",
        "\n"
      ],
      "metadata": {
        "id": "WpN0Z9e1ngCt"
      }
    },
    {
      "cell_type": "code",
      "source": [
        "import numpy as np\n",
        "import matplotlib.pyplot as plt\n",
        "\n",
        "x=np.linspace(0,2*np.pi,100)\n",
        "y=np.sin(x)\n",
        "\n",
        "plt.plot(x,y)"
      ],
      "metadata": {
        "colab": {
          "base_uri": "https://localhost:8080/",
          "height": 282
        },
        "id": "scT51bSLSai8",
        "outputId": "9bda080d-9603-44af-d27f-aa7c1fce8ebe"
      },
      "execution_count": null,
      "outputs": [
        {
          "output_type": "execute_result",
          "data": {
            "text/plain": [
              "[<matplotlib.lines.Line2D at 0x7f0810b0c510>]"
            ]
          },
          "metadata": {},
          "execution_count": 6
        },
        {
          "output_type": "display_data",
          "data": {
            "text/plain": [
              "<Figure size 432x288 with 1 Axes>"
            ],
            "image/png": "[encoded data removed]"
          },
          "metadata": {
            "needs_background": "light"
          }
        }
      ]
    },
    {
      "cell_type": "code",
      "source": [
        "np.array([1,-1])*np.array([1,1])"
      ],
      "metadata": {
        "colab": {
          "base_uri": "https://localhost:8080/"
        },
        "id": "Doal5em2TW85",
        "outputId": "d68fa386-bef8-4f61-a7e4-9cce34f5ea09"
      },
      "execution_count": null,
      "outputs": [
        {
          "output_type": "execute_result",
          "data": {
            "text/plain": [
              "array([ 1, -1])"
            ]
          },
          "metadata": {},
          "execution_count": 7
        }
      ]
    },
    {
      "cell_type": "code",
      "source": [
        "np.dot(np.array([1,-1]),np.array([1,1]))"
      ],
      "metadata": {
        "colab": {
          "base_uri": "https://localhost:8080/"
        },
        "id": "uGQsdmiXTkPW",
        "outputId": "ddbb749f-8e5a-4676-ad9e-d9af91049d8b"
      },
      "execution_count": null,
      "outputs": [
        {
          "output_type": "execute_result",
          "data": {
            "text/plain": [
              "0"
            ]
          },
          "metadata": {},
          "execution_count": 9
        }
      ]
    },
    {
      "cell_type": "markdown",
      "source": [
        "#arreglos 2D\n",
        "\n",
        "\n",
        "*   Se pueden hacer arreglos de n dimensiones\n",
        "*   se puede ver como matrices y se escriben por renglones\n",
        "*   A.ndim:2 (matriz de renglones y columnas)\n",
        "*   A.Shape: (3,3) matriz de 3x3\n",
        "*   A.size:9 9 elementos\n",
        "*   A[0][0] primer parentesis es en renglon, segundo es la columna\n",
        "*   Slicing A[0:2,2] selecciona los 2 valores de los primeros renglones de la última columna\n",
        "*   sumar arreglos es como sumar matrices X+Y\n",
        "*   se puede multiplicar por escalar 2Y\n",
        "*   X*Y es la multiplicacion de elementos en la misma posicion\n",
        "*   se puede hacer multiplicacion de matrices donde numero de columnas de la primera debe ser sigual al numero de renglones de la segunda\n",
        "> * se hace con el producto punto np.dot(A,B).  \n",
        "  \n",
        "\n",
        "\n",
        "\n",
        "\n",
        "\n",
        "\n",
        "\n"
      ],
      "metadata": {
        "id": "kbjGEq4jV-Ff"
      }
    },
    {
      "cell_type": "code",
      "source": [
        "#Access the element on the first row and first and second columns.\n",
        "\n",
        "\n",
        "a = [[1, 2, 3, 4], [5, 6, 7, 8], [9, 10, 11, 12]]\n",
        "a=np.array(a)\n",
        "a[0][0:2]\n",
        "\n",
        "# Create a matrix C\n",
        "\n",
        "C = np.array([[1,1],[2,2],[3,3]])\n",
        "C\n",
        "# Get the transposed of C\n",
        "\n",
        "C.T"
      ],
      "metadata": {
        "colab": {
          "base_uri": "https://localhost:8080/"
        },
        "id": "pKj-ARC8cWyZ",
        "outputId": "340c6fde-aaf6-47e6-a559-f0d5de18f9f3"
      },
      "execution_count": 12,
      "outputs": [
        {
          "output_type": "execute_result",
          "data": {
            "text/plain": [
              "array([[1, 2, 3],\n",
              "       [1, 2, 3]])"
            ]
          },
          "metadata": {},
          "execution_count": 12
        }
      ]
    },
    {
      "cell_type": "markdown",
      "source": [
        "#Simple APIs\n",
        "\n",
        "*   aplication program interfaces\n",
        "*   cuando 2 partes de SW se hablan\n",
        "*   REST APIs\n",
        "> *para comunicarse por internet\n",
        "*mi programa es el cliente e internet Web Service   \n",
        "*  mensajes http tienen un Json file, contiene instrucciones para que el servidor sepa que hacer\n",
        "*   API keys dan acceso al API, es como una contraseña de acceso\n",
        "*   End point es donde se encuentra la API, como una direccion web\n",
        "\n"
      ],
      "metadata": {
        "id": "9P25IURedovF"
      }
    },
    {
      "cell_type": "code",
      "source": [
        "a=np.array([0,1,0,1,0])\n",
        "\n",
        "b=np.array([1,0,1,0,1])\n",
        "\n",
        "a*b\n",
        "\n",
        "a=np.array([1,1,1,1,1])\n",
        "\n",
        "a+10\n"
      ],
      "metadata": {
        "colab": {
          "base_uri": "https://localhost:8080/"
        },
        "id": "BMKvKiOHi-gf",
        "outputId": "09189368-d2ef-458a-c917-1bc5b9e748ed"
      },
      "execution_count": 14,
      "outputs": [
        {
          "output_type": "execute_result",
          "data": {
            "text/plain": [
              "array([11, 11, 11, 11, 11])"
            ]
          },
          "metadata": {},
          "execution_count": 14
        }
      ]
    },
    {
      "cell_type": "markdown",
      "source": [
        "![image.png](data:image/png;base64,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)"
      ],
      "metadata": {
        "id": "R_F8L_dbj1Py"
      }
    }
  ]
}