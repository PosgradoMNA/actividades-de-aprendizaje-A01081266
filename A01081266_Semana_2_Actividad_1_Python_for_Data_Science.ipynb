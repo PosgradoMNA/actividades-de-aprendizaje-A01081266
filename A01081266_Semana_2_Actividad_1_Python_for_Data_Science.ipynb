{
  "nbformat": 4,
  "nbformat_minor": 0,
  "metadata": {
    "colab": {
      "provenance": [],
      "authorship_tag": "ABX9TyPaqqRb1RXJZYeuCqPpEjx/",
      "include_colab_link": true
    },
    "kernelspec": {
      "name": "python3",
      "display_name": "Python 3"
    },
    "language_info": {
      "name": "python"
    }
  },
  "cells": [
    {
      "cell_type": "markdown",
      "metadata": {
        "id": "view-in-github",
        "colab_type": "text"
      },
      "source": [
        "<a href=\"https://colab.research.google.com/github/PosgradoMNA/actividades-de-aprendizaje-A01081266/blob/main/A01081266_Semana_2_Actividad_1_Python_for_Data_Science.ipynb\" target=\"_parent\"><img src=\"https://colab.research.google.com/assets/colab-badge.svg\" alt=\"Open In Colab\"/></a>"
      ]
    },
    {
      "cell_type": "code",
      "execution_count": null,
      "metadata": {
        "id": "Wikpam_f_LPu"
      },
      "outputs": [],
      "source": []
    },
    {
      "cell_type": "markdown",
      "source": [
        "Leer Archivos\n",
        "\n",
        "\n",
        "*   file1 = open (\"path\", modo)\n",
        "*   A appending, R reading, W writte\n",
        "*   File1.name da el path\n",
        "*   siempre cerrar usando File1.close\n",
        "*   Whit siempre cierra el archivo en automatico al final de la indentacion\n",
        "*   imprimir el archivo se va a ver como en consola, pero si solo lo mandamos llamar file1 se van a ver el formato (ejemplo \\n)\n",
        "*   con readline se pueden leer las lineas del archivo, se aumenta solo el indice de renglones al leer\n",
        "*   si le pones argumento a reaslines() va a leer caracter por caracter\n",
        "\n"
      ],
      "metadata": {
        "id": "sBKUrBpn_UNX"
      }
    },
    {
      "cell_type": "code",
      "source": [
        "whith open(\"Example1.txt\",\"r\")as File1"
      ],
      "metadata": {
        "id": "1OEvte1dBQZr"
      },
      "execution_count": null,
      "outputs": []
    },
    {
      "cell_type": "markdown",
      "source": [
        "Writing\n",
        "\n",
        "\n",
        "\n",
        "*   File1.write(\"this is line A\\n\")\n",
        "*   Se puede usar tmb with\n",
        "*   se puede abrir un archivo de lectura y replicarlo abriendo uno limpio de escritura\n",
        "*   \n",
        "\n",
        "\n",
        "\n"
      ],
      "metadata": {
        "id": "tGClSWsHDwN-"
      }
    },
    {
      "cell_type": "markdown",
      "source": [
        "Pandas\n",
        "\n",
        "\n",
        "*   \n",
        "*   \n",
        "*   \n",
        "*   \n",
        "*   \n",
        "*   \n",
        "*   \n",
        "*   \n",
        "\n"
      ],
      "metadata": {
        "id": "U5-XMkXuEqrP"
      }
    }
  ]
}