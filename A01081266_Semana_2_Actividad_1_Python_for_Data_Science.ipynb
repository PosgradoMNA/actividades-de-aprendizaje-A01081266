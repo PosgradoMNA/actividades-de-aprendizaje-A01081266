{
  "nbformat": 4,
  "nbformat_minor": 0,
  "metadata": {
    "colab": {
      "provenance": [],
      "authorship_tag": "ABX9TyN2tmgGZY9oxXxzqST/Hayp",
      "include_colab_link": true
    },
    "kernelspec": {
      "name": "python3",
      "display_name": "Python 3"
    },
    "language_info": {
      "name": "python"
    }
  },
  "cells": [
    {
      "cell_type": "markdown",
      "metadata": {
        "id": "view-in-github",
        "colab_type": "text"
      },
      "source": [
        "<a href=\"https://colab.research.google.com/github/PosgradoMNA/actividades-de-aprendizaje-A01081266/blob/main/A01081266_Semana_2_Actividad_1_Python_for_Data_Science.ipynb\" target=\"_parent\"><img src=\"https://colab.research.google.com/assets/colab-badge.svg\" alt=\"Open In Colab\"/></a>"
      ]
    },
    {
      "cell_type": "code",
      "execution_count": null,
      "metadata": {
        "id": "Wikpam_f_LPu"
      },
      "outputs": [],
      "source": []
    },
    {
      "cell_type": "markdown",
      "source": [
        "Leer Archivos\n",
        "\n",
        "\n",
        "*   file1 = open (\"path\", modo)\n",
        "*   A appending, R reading, W writte\n",
        "*   File1.name da el path\n",
        "*   siempre cerrar usando File1.close\n",
        "*   Whit siempre cierra el archivo en automatico al final de la indentacion\n",
        "*   imprimir el archivo se va a ver como en consola, pero si solo lo mandamos llamar file1 se van a ver el formato (ejemplo \\n)\n",
        "*   con readline se pueden leer las lineas del archivo, se aumenta solo el indice de renglones al leer\n",
        "*   si le pones argumento a reaslines() va a leer caracter por caracter\n",
        "\n"
      ],
      "metadata": {
        "id": "sBKUrBpn_UNX"
      }
    },
    {
      "cell_type": "code",
      "source": [
        "whith open(\"Example1.txt\",\"r\")as File1"
      ],
      "metadata": {
        "id": "1OEvte1dBQZr"
      },
      "execution_count": null,
      "outputs": []
    },
    {
      "cell_type": "markdown",
      "source": [
        "Writing\n",
        "\n",
        "\n",
        "\n",
        "*   File1.write(\"this is line A\\n\")\n",
        "*   Se puede usar tmb with\n",
        "*   se puede abrir un archivo de lectura y replicarlo abriendo uno limpio de escritura\n",
        "*   \n",
        "\n",
        "\n",
        "\n"
      ],
      "metadata": {
        "id": "tGClSWsHDwN-"
      }
    },
    {
      "cell_type": "markdown",
      "source": [
        "Pandas\n",
        "\n",
        "\n",
        "*   Libreria para trabajar con datos\n",
        "*   df = data frame\n",
        "*   se ponen primero la columna, y despues los datos de la columna (se ven como transpuestos)\n",
        "*   \n"
      ],
      "metadata": {
        "id": "U5-XMkXuEqrP"
      }
    },
    {
      "cell_type": "code",
      "source": [
        "#ejemplo de leer\n",
        "with open(\"Example1.txt\",\"r\") as file1:\n",
        "\n",
        "  FileContent=file1.readlines()\n",
        "\n",
        "  print(FileContent)"
      ],
      "metadata": {
        "id": "eKLzgaiiuKqy"
      },
      "execution_count": null,
      "outputs": []
    },
    {
      "cell_type": "code",
      "source": [
        "#ejemplo de escribir\n",
        "with open(\"Example2.txt\",\"w\") as writefile:\n",
        "\n",
        "  writefile.write(\"This is line A\\n\")\n",
        "\n",
        "  writefile.write(\"This is line B\\n\")"
      ],
      "metadata": {
        "id": "plrPMTmAuPcs"
      },
      "execution_count": null,
      "outputs": []
    },
    {
      "cell_type": "code",
      "source": [
        "#ejemplo de añadir\n",
        "with open(\"Example3.txt\",\"a\") as file1:\n",
        "\n",
        "  file1.write(\"This is line C\\n\")"
      ],
      "metadata": {
        "id": "JgxavFVjuczs"
      },
      "execution_count": null,
      "outputs": []
    },
    {
      "cell_type": "markdown",
      "source": [
        "\n",
        "![image.png](data:image/png;base64,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)"
      ],
      "metadata": {
        "id": "wj1AMvFFutYA"
      }
    }
  ]
}