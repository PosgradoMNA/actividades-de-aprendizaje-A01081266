{
  "nbformat": 4,
  "nbformat_minor": 0,
  "metadata": {
    "colab": {
      "provenance": [],
      "authorship_tag": "ABX9TyMbaerw07PaZjnz0SUXvaJy",
      "include_colab_link": true
    },
    "kernelspec": {
      "name": "python3",
      "display_name": "Python 3"
    },
    "language_info": {
      "name": "python"
    }
  },
  "cells": [
    {
      "cell_type": "markdown",
      "metadata": {
        "id": "view-in-github",
        "colab_type": "text"
      },
      "source": [
        "<a href=\"https://colab.research.google.com/github/PosgradoMNA/actividades-de-aprendizaje-A01081266/blob/main/Semana_7_Data_Analysis_with_PythonA01081266.ipynb\" target=\"_parent\"><img src=\"https://colab.research.google.com/assets/colab-badge.svg\" alt=\"Open In Colab\"/></a>"
      ]
    },
    {
      "cell_type": "code",
      "execution_count": null,
      "metadata": {
        "id": "2isFLj_5S-7p"
      },
      "outputs": [],
      "source": []
    },
    {
      "cell_type": "markdown",
      "source": [
        "#Maestría en Inteligencia Artificial Aplicada\n",
        "\n",
        "Curso: Inteligencia Artificial y Aprendizaje Automático\n",
        "\n",
        "***Tecnológico de Monterrey***\n",
        "\n",
        "Prof Maria de la Paz Rico\n",
        "\n",
        "Actividad de la Semana 7: Data Analysis with Python\n",
        "\n",
        "Aurelio Antonio Lozano Rábago A01081266\n"
      ],
      "metadata": {
        "id": "IYyNYVJ6TLTk"
      }
    },
    {
      "cell_type": "markdown",
      "source": [
        "#model development\n",
        "\n",
        "* Modelo es un estimador que puede pensarse como una ecuacion matematica usada para predecir un valor\n",
        "\n",
        "* A mas y mejores datos, mas precisión en los resultados\n",
        "\n",
        "# Regresion linear y multiple\n",
        "\n",
        "* Regresión linear es con una variable de entrada, regresion multiple, tiene muchas variables de entrada\n",
        "\n",
        "* SLR nos da la relacion entre la variable de entrada (predictor) y la salida (predicción)\n",
        "\n",
        "* y= b0 + b1x\n",
        "* B1 es la pendiente\n",
        "* Al entrenar el modelo se encuentran las Bs\n",
        "* Para determinar la linea, se toman los datos para entrenar al modelo\n",
        "* Incertidumbre añadida a los datos es ruido\n",
        "* From sklearn.linear_model import LinearRegression\n",
        "* Lm = LinearREgression()\n",
        "* Definimos el predictor y la salida\n",
        "* Usamos .fit para hacer fit del modelo (encontrar buenos parametros de B0 y B1)\n",
        "* Bo es un atributo del modelo en este caso lm.intercept_\n",
        "* B1 es otro atributo de Lm lm.coef_\n",
        "* Regresion lineal multiple es cuando hay 2 o mas predictores\n",
        "* Y=b0+b1x1+b2x2+b3x3+b4x4\n",
        "* Se puede entrenar del mismo modo\n",
        "* Z=df[['horsepower','curb-weight','eng-size','highway-mpg']]\n",
        "* Entrenar el modelo\n",
        "* Lm.fit(Z,df['price']\n",
        " \n",
        "\n",
        "# Visualizacion del modelo\n",
        "\n",
        "* Graficas son un buen estimado de\n",
        "* Relacion entre 2 variables\n",
        "* La fuerza de correlacion entre ellas\n",
        "* Direccion de la relacion (puede ser positiva o negativa)\n",
        "* Regplot from seaborn library\n",
        "* Sns.regplot(x=\"highway-mpg\",y=\"price\", data=df)\n",
        "* Plt.ylim(0,)\n",
        "* Gráfica residual da los puntos diferencia entre el valor target y el valor predicho\n",
        "* Se espera que haya un promedio de 0 en la gráfica residual\n",
        "* Si las diferencias no estan distribuidas de manera random o si incrementa la varianza, son señales que el modelo esta mal\n",
        "* Import saborn as sns\n",
        "* Sns.residplot(df[\n",
        "* Plot de distribucion centa el valor predicho contra el valor actual, son utiles para visualizar modelos con mas de una variable independiente\n",
        "Muestran el error\n",
        "* Axl = sns.distplot(df['price'],hist=false, color'r', label='actual value'\n",
        "* Sns.distplot(yhat, hist=false, color='b', label = 'fitted values', ax=axl)\n",
        " \n",
        "\n",
        "# Regresion polymonial y pipelines\n",
        "\n",
        "* Caso especial de regresion lineal\n",
        "* Ecuaciones de ordenes mayores a 1\n",
        "* y=b0 +b1x1+b2x1^2\n",
        "* f=np.polyfit(x,y,3)\n",
        "* p=np.polyd(f)\n",
        "* Se puede estandarizar el modelo con StandardScaler\n",
        "* SCALE=standardScaler()\n",
        "* SCALE.fit(x_data'horsepower', 'highway-mpg'))\n",
        "* x_scale=SCALE.transform(x_data'horsepower','highway-mppg'\n",
        " \n",
        "\n",
        "# Pipelines\n",
        "\n",
        "* Simplifican procesos\n",
        "* Por ejemplo normalizar--transpormacion polinomial--regresion lineal\n",
        "* Se crean las tuplas con el nombre y despues el constructor de modelo\n",
        "* Se crea el pipeline y despues se puede entrenar\n",
        " \n",
        "\n",
        "* Coeficiente de determinacion R^2\n",
        "\n",
        "* MSE error de media al cuadrado\n",
        "* Import mean_squared_error\n",
        "* R^2 es el coeficiente de determinacion\n",
        "* Que tan cerca estan los datos de la linea de regresion\n",
        "* Entre mas cercano a uno mejor\n",
        "* Lm.score(X,y) da este error\n",
        " \n",
        "\n",
        "#Prediccion y toma de decisiones\n",
        "\n",
        "* Obtener valores que hagan sentido\n",
        "* Visualizar los datos\n",
        "* Hacer mediciones numericas para evaluar\n",
        "* Comparar modelos\n",
        "* Entrenamos modelo con fit\n",
        "* Generar una secuencia de valores\n",
        "* Numpy np.arrange (1, 101, 1).reshape(-1,1)\n",
        "\n",
        "* ![image.png](data:image/png;base64,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)\n"
      ],
      "metadata": {
        "id": "mrOt9cU-TQaD"
      }
    }
  ]
}