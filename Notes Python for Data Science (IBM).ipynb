{
  "nbformat": 4,
  "nbformat_minor": 0,
  "metadata": {
    "colab": {
      "provenance": [],
      "authorship_tag": "ABX9TyOIV8J6IgLTjcYDnmMmKIrE",
      "include_colab_link": true
    },
    "kernelspec": {
      "name": "python3",
      "display_name": "Python 3"
    },
    "language_info": {
      "name": "python"
    }
  },
  "cells": [
    {
      "cell_type": "markdown",
      "metadata": {
        "id": "view-in-github",
        "colab_type": "text"
      },
      "source": [
        "<a href=\"https://colab.research.google.com/github/PosgradoMNA/actividades-de-aprendizaje-aalr007/blob/main/Notes%20Python%20for%20Data%20Science%20(IBM).ipynb\" target=\"_parent\"><img src=\"https://colab.research.google.com/assets/colab-badge.svg\" alt=\"Open In Colab\"/></a>"
      ]
    },
    {
      "cell_type": "markdown",
      "source": [],
      "metadata": {
        "id": "nQ9I4zLJtJ7o"
      }
    },
    {
      "cell_type": "markdown",
      "source": [
        "Python es un lenguaje interpretado\n",
        "\n",
        "Comentarios\n",
        "#este es un comentario en python\n",
        "\n",
        "Strings\n",
        "se ponen entre \n"
      ],
      "metadata": {
        "id": "R-sG5RRptL0G"
      }
    }
  ]
}